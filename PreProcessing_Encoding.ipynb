{
 "cells": [
  {
   "cell_type": "markdown",
   "metadata": {},
   "source": [
    "# (Encoding)"
   ]
  },
  {
   "cell_type": "markdown",
   "metadata": {},
   "source": [
    "## Encoding labels"
   ]
  },
  {
   "cell_type": "markdown",
   "metadata": {},
   "source": [
    "LabelEncoder is a utility class to help normalize labels such that they contain only values between 0 and n_classes-1. This is sometimes useful for writing efficient Cython routines. It can also be used to transform non-numerical labels (as long as they are hashable and comparable) to numerical labels. LabelEncoder can be used as follows:"
   ]
  },
  {
   "cell_type": "code",
   "execution_count": 4,
   "metadata": {},
   "outputs": [
    {
     "name": "stdout",
     "output_type": "stream",
     "text": [
      "\n",
      " Original data: \n",
      " ['red', 'black', 'red', 'green', 'black', 'yellow', 'white']\n",
      "\n",
      " Label examples: \n",
      " ['green', 'red', 'black']\n",
      "\n",
      " Encoded value examples: \n",
      " [1, 2, 0]\n",
      "\n",
      " Encoded value examples: \n",
      " [3, 0, 4, 1]\n",
      "\n",
      " Decoded label examples: \n",
      " ['white', 'black', 'yellow', 'green']\n"
     ]
    }
   ],
   "source": [
    "# Data Preprocessing\n",
    "\n",
    "## Imporing packages\n",
    "import numpy as np\n",
    "from sklearn import preprocessing\n",
    "\n",
    "## Making data\n",
    "input_labels = ['red', 'black', 'red', 'green', 'black', 'yellow', 'white']\n",
    "print(\"\\n Original data: \\n\",input_labels)\n",
    "\n",
    "## Encoding labels\n",
    "encoder = preprocessing.LabelEncoder()\n",
    "encoder.fit(input_labels)\n",
    "\n",
    "test_labels = ['green', 'red', 'black']\n",
    "encoded_values = encoder.transform(test_labels)\n",
    "print(\"\\n Label examples: \\n\", test_labels)\n",
    "print(\"\\n Encoded value examples: \\n\", list(encoded_values))\n",
    "\n",
    "encoded_values_example = [3, 0, 4, 1]\n",
    "decoded_list = encoder.inverse_transform(encoded_values_example)\n",
    "print(\"\\n Encoded value examples: \\n\", encoded_values_example)\n",
    "print(\"\\n Decoded label examples: \\n\", list(decoded_list))"
   ]
  },
  {
   "cell_type": "markdown",
   "metadata": {},
   "source": [
    "## One Hot Encoding"
   ]
  },
  {
   "cell_type": "markdown",
   "metadata": {},
   "source": [
    "One hot encoding is a process used to convert categorical data variables into a form that could be provided to machine learning algorithms to do a better job in prediction. Categorical data are variables that contain label values rather than numeric values. The number of possible values is often limited to a fixed set, for example, users by country, where the users can be from one of the countries in the dataset. Many machine learning algorithms cannot work with categorical data directly. They require all input variables and output variables to be numeric. This is where one hot encoding comes into play, where each unique category value is assigned a binary vector that has all zero values except the index of the category, which is marked with a 1."
   ]
  },
  {
   "cell_type": "markdown",
   "metadata": {},
   "source": [
    "### 1) How One Hot Encoding Works"
   ]
  },
  {
   "cell_type": "markdown",
   "metadata": {},
   "source": [
    "One hot encoding converts categorical data, typically represented in string format, into a numerical format that can be used in mathematical calculations and hence by machine learning algorithms. The process involves creating a new binary column for each category in the original data. Here's a step-by-step explanation:"
   ]
  },
  {
   "cell_type": "markdown",
   "metadata": {},
   "source": [
    "<ol>\n",
    "  <li>Identify all unique categories across the categorical variable.</li>\n",
    "  <li>Create a binary column for each category.</li>\n",
    "  <li>For each entry, set the column that corresponds to the category to 1, and all other new columns to 0.</li>\n",
    "</ol>"
   ]
  },
  {
   "cell_type": "markdown",
   "metadata": {},
   "source": [
    "As an example, consider a 'Color' feature with three categories: 'Red', 'Green', and 'Blue'. One hot encoding this feature would create three new features: 'Color_Red', 'Color_Green', and 'Color_Blue'. An observation with 'Red' as the color would have a '1' in the 'Color_Red' column and a '0' in the other two color columns."
   ]
  },
  {
   "cell_type": "markdown",
   "metadata": {},
   "source": [
    "### 2) Advantages of One Hot Encoding"
   ]
  },
  {
   "cell_type": "markdown",
   "metadata": {},
   "source": [
    "One hot encoding has several advantages, including:"
   ]
  },
  {
   "cell_type": "markdown",
   "metadata": {},
   "source": [
    "<ol>\n",
    "    <p><b>Preservation of Information:</b></p>\n",
    "  <li>It ensures that the categorical variable carries the same weight in the machine learning model, without any potential ordinal relationship which might be wrongly interpreted by the algorithm.</li>\n",
    "  <p><b>Compatibility:</b></p>\n",
    "  <li>It makes the dataset compatible with various types of machine learning algorithms which expect numerical input.</li>\n",
    "  <p><b>Intuitiveness:</b></p>\n",
    "  <li>The representation is straightforward and easy to understand.</li>\n",
    "</ol>"
   ]
  },
  {
   "cell_type": "markdown",
   "metadata": {},
   "source": [
    "### 3) Disadvantages of One Hot Encoding"
   ]
  },
  {
   "cell_type": "markdown",
   "metadata": {},
   "source": [
    "However, one hot encoding is not without its drawbacks, such as:"
   ]
  },
  {
   "cell_type": "markdown",
   "metadata": {},
   "source": [
    "<ol>\n",
    "  <p><b>Dimensionality Increase:</b></p>\n",
    "  <li>It can lead to a high increase in the data dimensionality, especially if the categorical variable has many categories. This is often referred to as the \"curse of dimensionality\".</li>\n",
    "  <p><b>Sparse Matrix:</b></p>\n",
    "  <li>It creates a sparse matrix, which can be computationally intensive for some models to handle.</li>\n",
    "  <p><b>Information Loss:</b></p>\n",
    "  <li>If the categorical variable has some ordinal relationship, one hot encoding does not capture this relationship unless it is explicitly modeled elsewhere.</li>\n",
    "</ol>"
   ]
  },
  {
   "cell_type": "markdown",
   "metadata": {},
   "source": [
    "### 4) When to Use One Hot Encoding"
   ]
  },
  {
   "cell_type": "markdown",
   "metadata": {},
   "source": [
    "One hot encoding is most useful when:"
   ]
  },
  {
   "cell_type": "markdown",
   "metadata": {},
   "source": [
    "<ol>\n",
    "  <li>The categorical feature is nominal (i.e., there is no ordinal relationship between the categories).</li>\n",
    "  <li>The number of categorical features is less, so the increase in dimensionality is manageable.</li>\n",
    "  <li>The machine learning algorithm does not support categorical data natively.</li>\n",
    "</ol>"
   ]
  },
  {
   "cell_type": "markdown",
   "metadata": {},
   "source": [
    "### 5) Alternatives to One Hot Encoding"
   ]
  },
  {
   "cell_type": "markdown",
   "metadata": {},
   "source": [
    "When one hot encoding is not suitable, alternatives include:"
   ]
  },
  {
   "cell_type": "markdown",
   "metadata": {},
   "source": [
    "<ol>\n",
    "  <p><b>Label Encoding:</b></p>\n",
    "  <li>Assigning each unique category in a categorical variable with a numerical label. However, this might introduce an ordinal relationship that might not exist.</li>\n",
    "  <p><b>Embedding:</b></p>\n",
    "  <li>A dense representation of categories which is often used in deep learning models.</li>\n",
    "  <p><b>Binary Encoding:</b></p>\n",
    "  <li>A combination of hashing and binary representation which can reduce dimensionality compared to one hot encoding.</li>\n",
    "</ol>"
   ]
  },
  {
   "cell_type": "markdown",
   "metadata": {},
   "source": [
    "### 6) Implementing One Hot Encoding"
   ]
  },
  {
   "cell_type": "markdown",
   "metadata": {},
   "source": [
    "In practice, one hot encoding can be implemented easily with the help of many data processing libraries. For example, in Python, the pandas library offers a 'get_dummies' function that automatically converts categorical columns to one hot encoded data. Similarly, Scikit-learn's 'OneHotEncoder' can be used to one hot encode categorical features."
   ]
  },
  {
   "cell_type": "code",
   "execution_count": 13,
   "metadata": {},
   "outputs": [
    {
     "data": {
      "text/html": [
       "<div>\n",
       "<style scoped>\n",
       "    .dataframe tbody tr th:only-of-type {\n",
       "        vertical-align: middle;\n",
       "    }\n",
       "\n",
       "    .dataframe tbody tr th {\n",
       "        vertical-align: top;\n",
       "    }\n",
       "\n",
       "    .dataframe thead th {\n",
       "        text-align: right;\n",
       "    }\n",
       "</style>\n",
       "<table border=\"1\" class=\"dataframe\">\n",
       "  <thead>\n",
       "    <tr style=\"text-align: right;\">\n",
       "      <th></th>\n",
       "      <th>ID</th>\n",
       "      <th>Gender</th>\n",
       "    </tr>\n",
       "  </thead>\n",
       "  <tbody>\n",
       "    <tr>\n",
       "      <th>0</th>\n",
       "      <td>1</td>\n",
       "      <td>man</td>\n",
       "    </tr>\n",
       "    <tr>\n",
       "      <th>1</th>\n",
       "      <td>22</td>\n",
       "      <td>woman</td>\n",
       "    </tr>\n",
       "    <tr>\n",
       "      <th>2</th>\n",
       "      <td>333</td>\n",
       "      <td>man</td>\n",
       "    </tr>\n",
       "    <tr>\n",
       "      <th>3</th>\n",
       "      <td>4444</td>\n",
       "      <td>woman</td>\n",
       "    </tr>\n",
       "    <tr>\n",
       "      <th>4</th>\n",
       "      <td>55555</td>\n",
       "      <td>woman</td>\n",
       "    </tr>\n",
       "  </tbody>\n",
       "</table>\n",
       "</div>"
      ],
      "text/plain": [
       "      ID Gender\n",
       "0      1    man\n",
       "1     22  woman\n",
       "2    333    man\n",
       "3   4444  woman\n",
       "4  55555  woman"
      ]
     },
     "execution_count": 13,
     "metadata": {},
     "output_type": "execute_result"
    }
   ],
   "source": [
    "# Data Preprocessing\n",
    "\n",
    "## Imporing packages\n",
    "import pandas as pd\n",
    "import numpy as np\n",
    "\n",
    "## Making data\n",
    "d = {'ID': [1, 22, 333, 4444, 55555], 'Gender': [\"man\", \"woman\", \"man\", \"woman\", \"woman\"]}\n",
    "df = pd.DataFrame(data=d)\n",
    "df"
   ]
  },
  {
   "cell_type": "code",
   "execution_count": 20,
   "metadata": {},
   "outputs": [
    {
     "data": {
      "text/html": [
       "<div>\n",
       "<style scoped>\n",
       "    .dataframe tbody tr th:only-of-type {\n",
       "        vertical-align: middle;\n",
       "    }\n",
       "\n",
       "    .dataframe tbody tr th {\n",
       "        vertical-align: top;\n",
       "    }\n",
       "\n",
       "    .dataframe thead th {\n",
       "        text-align: right;\n",
       "    }\n",
       "</style>\n",
       "<table border=\"1\" class=\"dataframe\">\n",
       "  <thead>\n",
       "    <tr style=\"text-align: right;\">\n",
       "      <th></th>\n",
       "      <th>man</th>\n",
       "      <th>woman</th>\n",
       "    </tr>\n",
       "  </thead>\n",
       "  <tbody>\n",
       "    <tr>\n",
       "      <th>0</th>\n",
       "      <td>1</td>\n",
       "      <td>0</td>\n",
       "    </tr>\n",
       "    <tr>\n",
       "      <th>1</th>\n",
       "      <td>0</td>\n",
       "      <td>1</td>\n",
       "    </tr>\n",
       "    <tr>\n",
       "      <th>2</th>\n",
       "      <td>1</td>\n",
       "      <td>0</td>\n",
       "    </tr>\n",
       "    <tr>\n",
       "      <th>3</th>\n",
       "      <td>0</td>\n",
       "      <td>1</td>\n",
       "    </tr>\n",
       "    <tr>\n",
       "      <th>4</th>\n",
       "      <td>0</td>\n",
       "      <td>1</td>\n",
       "    </tr>\n",
       "  </tbody>\n",
       "</table>\n",
       "</div>"
      ],
      "text/plain": [
       "   man  woman\n",
       "0    1      0\n",
       "1    0      1\n",
       "2    1      0\n",
       "3    0      1\n",
       "4    0      1"
      ]
     },
     "execution_count": 20,
     "metadata": {},
     "output_type": "execute_result"
    }
   ],
   "source": [
    "## categorical variable on a column\n",
    "pd.get_dummies(df['Gender'])"
   ]
  },
  {
   "cell_type": "code",
   "execution_count": 21,
   "metadata": {},
   "outputs": [
    {
     "data": {
      "text/html": [
       "<div>\n",
       "<style scoped>\n",
       "    .dataframe tbody tr th:only-of-type {\n",
       "        vertical-align: middle;\n",
       "    }\n",
       "\n",
       "    .dataframe tbody tr th {\n",
       "        vertical-align: top;\n",
       "    }\n",
       "\n",
       "    .dataframe thead th {\n",
       "        text-align: right;\n",
       "    }\n",
       "</style>\n",
       "<table border=\"1\" class=\"dataframe\">\n",
       "  <thead>\n",
       "    <tr style=\"text-align: right;\">\n",
       "      <th></th>\n",
       "      <th>ID</th>\n",
       "      <th>Gender_man</th>\n",
       "      <th>Gender_woman</th>\n",
       "    </tr>\n",
       "  </thead>\n",
       "  <tbody>\n",
       "    <tr>\n",
       "      <th>0</th>\n",
       "      <td>1</td>\n",
       "      <td>1</td>\n",
       "      <td>0</td>\n",
       "    </tr>\n",
       "    <tr>\n",
       "      <th>1</th>\n",
       "      <td>22</td>\n",
       "      <td>0</td>\n",
       "      <td>1</td>\n",
       "    </tr>\n",
       "    <tr>\n",
       "      <th>2</th>\n",
       "      <td>333</td>\n",
       "      <td>1</td>\n",
       "      <td>0</td>\n",
       "    </tr>\n",
       "    <tr>\n",
       "      <th>3</th>\n",
       "      <td>4444</td>\n",
       "      <td>0</td>\n",
       "      <td>1</td>\n",
       "    </tr>\n",
       "    <tr>\n",
       "      <th>4</th>\n",
       "      <td>55555</td>\n",
       "      <td>0</td>\n",
       "      <td>1</td>\n",
       "    </tr>\n",
       "  </tbody>\n",
       "</table>\n",
       "</div>"
      ],
      "text/plain": [
       "      ID  Gender_man  Gender_woman\n",
       "0      1           1             0\n",
       "1     22           0             1\n",
       "2    333           1             0\n",
       "3   4444           0             1\n",
       "4  55555           0             1"
      ]
     },
     "execution_count": 21,
     "metadata": {},
     "output_type": "execute_result"
    }
   ],
   "source": [
    "## categorical variable on a dataframe\n",
    "df_oneHoted = pd.get_dummies(df)\n",
    "df_oneHoted"
   ]
  },
  {
   "cell_type": "code",
   "execution_count": 22,
   "metadata": {},
   "outputs": [
    {
     "data": {
      "text/html": [
       "<div>\n",
       "<style scoped>\n",
       "    .dataframe tbody tr th:only-of-type {\n",
       "        vertical-align: middle;\n",
       "    }\n",
       "\n",
       "    .dataframe tbody tr th {\n",
       "        vertical-align: top;\n",
       "    }\n",
       "\n",
       "    .dataframe thead th {\n",
       "        text-align: right;\n",
       "    }\n",
       "</style>\n",
       "<table border=\"1\" class=\"dataframe\">\n",
       "  <thead>\n",
       "    <tr style=\"text-align: right;\">\n",
       "      <th></th>\n",
       "      <th>ID</th>\n",
       "      <th>Gender_man</th>\n",
       "    </tr>\n",
       "  </thead>\n",
       "  <tbody>\n",
       "    <tr>\n",
       "      <th>0</th>\n",
       "      <td>1</td>\n",
       "      <td>1</td>\n",
       "    </tr>\n",
       "    <tr>\n",
       "      <th>1</th>\n",
       "      <td>22</td>\n",
       "      <td>0</td>\n",
       "    </tr>\n",
       "    <tr>\n",
       "      <th>2</th>\n",
       "      <td>333</td>\n",
       "      <td>1</td>\n",
       "    </tr>\n",
       "    <tr>\n",
       "      <th>3</th>\n",
       "      <td>4444</td>\n",
       "      <td>0</td>\n",
       "    </tr>\n",
       "    <tr>\n",
       "      <th>4</th>\n",
       "      <td>55555</td>\n",
       "      <td>0</td>\n",
       "    </tr>\n",
       "  </tbody>\n",
       "</table>\n",
       "</div>"
      ],
      "text/plain": [
       "      ID  Gender_man\n",
       "0      1           1\n",
       "1     22           0\n",
       "2    333           1\n",
       "3   4444           0\n",
       "4  55555           0"
      ]
     },
     "execution_count": 22,
     "metadata": {},
     "output_type": "execute_result"
    }
   ],
   "source": [
    "## Removing repetetive generated columns\n",
    "df_oneHoted.drop(columns=['Gender_woman'],inplace=True)\n",
    "df_oneHoted"
   ]
  },
  {
   "cell_type": "markdown",
   "metadata": {},
   "source": [
    "### 7) Conclusion"
   ]
  },
  {
   "cell_type": "markdown",
   "metadata": {},
   "source": [
    "One hot encoding is an essential preprocessing step for handling categorical data in machine learning. By converting categories into a binary matrix, it allows algorithms to leverage categorical data without falling into the trap of misinterpreting ordinal relationships. However, data scientists must be mindful of the potential issues such as increased dimensionality and ensure that the benefits of using one hot encoding outweigh the drawbacks for their specific application."
   ]
  },
  {
   "cell_type": "code",
   "execution_count": null,
   "metadata": {},
   "outputs": [],
   "source": []
  }
 ],
 "metadata": {
  "kernelspec": {
   "display_name": "Python 3",
   "language": "python",
   "name": "python3"
  },
  "language_info": {
   "codemirror_mode": {
    "name": "ipython",
    "version": 3
   },
   "file_extension": ".py",
   "mimetype": "text/x-python",
   "name": "python",
   "nbconvert_exporter": "python",
   "pygments_lexer": "ipython3",
   "version": "3.7.3"
  }
 },
 "nbformat": 4,
 "nbformat_minor": 2
}
